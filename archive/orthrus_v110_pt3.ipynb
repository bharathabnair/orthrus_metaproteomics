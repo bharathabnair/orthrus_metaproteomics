{
  "nbformat": 4,
  "nbformat_minor": 0,
  "metadata": {
    "colab": {
      "provenance": [],
      "machine_shape": "hm",
      "gpuType": "V28",
      "mount_file_id": "1JKVrACMJ61bvINVlaGecutl38rpr_4ES",
      "authorship_tag": "ABX9TyNQdy25oRpoD1eOUtvX1HQc",
      "include_colab_link": true
    },
    "kernelspec": {
      "name": "python3",
      "display_name": "Python 3"
    },
    "language_info": {
      "name": "python"
    },
    "accelerator": "TPU"
  },
  "cells": [
    {
      "cell_type": "markdown",
      "metadata": {
        "id": "view-in-github",
        "colab_type": "text"
      },
      "source": [
        "<a href=\"https://colab.research.google.com/github/yc386/orthrus_metaproteomics/blob/main/orthrus_v110/orthrus_v110_pt3.ipynb\" target=\"_parent\"><img src=\"https://colab.research.google.com/assets/colab-badge.svg\" alt=\"Open In Colab\"/></a>"
      ]
    },
    {
      "cell_type": "markdown",
      "source": [
        "# **Orthrus pt3- [`Mokapot`](https://github.com/wfondrie/mokapot)**\n",
        "\n",
        "Runtime recommendation:\n",
        "1. Normal CPU\n",
        "2. CPU, high RAM (50GB)\n",
        "3. **TPU** runtime if RAM usage is expected to be extremely high (many PSMs)\n",
        "\n",
        "**Ignore the prompt to click restart !!!** Wait and the runtime will restart automatically."
      ],
      "metadata": {
        "id": "ayMwUa6kgD6b"
      }
    },
    {
      "cell_type": "code",
      "source": [
        "#@title install dependencies, will automatically restart to sort out versions conflicts caused by Mokapot\n",
        "!pip install mokapot xgboost\n",
        "!pip uninstall -y numpy\n",
        "!pip install numpy==1.24.1\n",
        "import os\n",
        "os.kill(os.getpid(), 9)"
      ],
      "metadata": {
        "colab": {
          "base_uri": "https://localhost:8080/",
          "height": 1000
        },
        "cellView": "form",
        "id": "jYaOh58Oc8XC",
        "outputId": "b777a85a-5459-4108-90f8-9447b841938d"
      },
      "execution_count": null,
      "outputs": [
        {
          "output_type": "stream",
          "name": "stdout",
          "text": [
            "Collecting mokapot\n",
            "  Downloading mokapot-0.10.0-py3-none-any.whl.metadata (4.5 kB)\n",
            "Collecting xgboost\n",
            "  Downloading xgboost-2.1.4-py3-none-manylinux_2_28_x86_64.whl.metadata (2.1 kB)\n",
            "Requirement already satisfied: numpy>=1.18.1 in /usr/local/lib/python3.11/dist-packages (from mokapot) (1.26.4)\n",
            "Requirement already satisfied: pandas>=1.0.3 in /usr/local/lib/python3.11/dist-packages (from mokapot) (2.2.2)\n",
            "Requirement already satisfied: scikit-learn>=0.22.1 in /usr/local/lib/python3.11/dist-packages (from mokapot) (1.6.1)\n",
            "Requirement already satisfied: numba>=0.48.0 in /usr/local/lib/python3.11/dist-packages (from mokapot) (0.61.0)\n",
            "Requirement already satisfied: matplotlib>=3.1.3 in /usr/local/lib/python3.11/dist-packages (from mokapot) (3.10.0)\n",
            "Collecting lxml>=4.6.2 (from mokapot)\n",
            "  Downloading lxml-5.3.1-cp311-cp311-manylinux_2_28_x86_64.whl.metadata (3.7 kB)\n",
            "Collecting triqler>=0.6.2 (from mokapot)\n",
            "  Downloading triqler-0.8.0-py3-none-any.whl.metadata (11 kB)\n",
            "Requirement already satisfied: joblib>=1.1.0 in /usr/local/lib/python3.11/dist-packages (from mokapot) (1.4.2)\n",
            "Collecting importlib-metadata>=5.1.0 (from mokapot)\n",
            "  Downloading importlib_metadata-8.6.1-py3-none-any.whl.metadata (4.7 kB)\n",
            "Collecting nvidia-nccl-cu12 (from xgboost)\n",
            "  Downloading nvidia_nccl_cu12-2.25.1-py3-none-manylinux2014_x86_64.manylinux_2_17_x86_64.whl.metadata (1.8 kB)\n",
            "Requirement already satisfied: scipy in /usr/local/lib/python3.11/dist-packages (from xgboost) (1.13.1)\n",
            "Requirement already satisfied: zipp>=3.20 in /usr/local/lib/python3.11/dist-packages (from importlib-metadata>=5.1.0->mokapot) (3.21.0)\n",
            "Requirement already satisfied: contourpy>=1.0.1 in /usr/local/lib/python3.11/dist-packages (from matplotlib>=3.1.3->mokapot) (1.3.1)\n",
            "Requirement already satisfied: cycler>=0.10 in /usr/local/lib/python3.11/dist-packages (from matplotlib>=3.1.3->mokapot) (0.12.1)\n",
            "Requirement already satisfied: fonttools>=4.22.0 in /usr/local/lib/python3.11/dist-packages (from matplotlib>=3.1.3->mokapot) (4.55.8)\n",
            "Requirement already satisfied: kiwisolver>=1.3.1 in /usr/local/lib/python3.11/dist-packages (from matplotlib>=3.1.3->mokapot) (1.4.8)\n",
            "Requirement already satisfied: packaging>=20.0 in /usr/local/lib/python3.11/dist-packages (from matplotlib>=3.1.3->mokapot) (24.2)\n",
            "Requirement already satisfied: pillow>=8 in /usr/local/lib/python3.11/dist-packages (from matplotlib>=3.1.3->mokapot) (11.1.0)\n",
            "Requirement already satisfied: pyparsing>=2.3.1 in /usr/local/lib/python3.11/dist-packages (from matplotlib>=3.1.3->mokapot) (3.2.1)\n",
            "Requirement already satisfied: python-dateutil>=2.7 in /usr/local/lib/python3.11/dist-packages (from matplotlib>=3.1.3->mokapot) (2.9.0.post0)\n",
            "Requirement already satisfied: llvmlite<0.45,>=0.44.0dev0 in /usr/local/lib/python3.11/dist-packages (from numba>=0.48.0->mokapot) (0.44.0)\n",
            "Requirement already satisfied: pytz>=2020.1 in /usr/local/lib/python3.11/dist-packages (from pandas>=1.0.3->mokapot) (2025.1)\n",
            "Requirement already satisfied: tzdata>=2022.7 in /usr/local/lib/python3.11/dist-packages (from pandas>=1.0.3->mokapot) (2025.1)\n",
            "Requirement already satisfied: threadpoolctl>=3.1.0 in /usr/local/lib/python3.11/dist-packages (from scikit-learn>=0.22.1->mokapot) (3.5.0)\n",
            "Collecting job-pool<0.3.0,>=0.2.6 (from triqler>=0.6.2->mokapot)\n",
            "  Downloading job_pool-0.2.6-py3-none-any.whl.metadata (2.1 kB)\n",
            "Collecting numpy>=1.18.1 (from mokapot)\n",
            "  Downloading numpy-2.1.3-cp311-cp311-manylinux_2_17_x86_64.manylinux2014_x86_64.whl.metadata (62 kB)\n",
            "\u001b[2K     \u001b[90m━━━━━━━━━━━━━━━━━━━━━━━━━━━━━━━━━━━━━━━━\u001b[0m \u001b[32m62.0/62.0 kB\u001b[0m \u001b[31m2.3 MB/s\u001b[0m eta \u001b[36m0:00:00\u001b[0m\n",
            "\u001b[?25hRequirement already satisfied: tqdm<5.0.0,>=4.66.1 in /usr/local/lib/python3.11/dist-packages (from job-pool<0.3.0,>=0.2.6->triqler>=0.6.2->mokapot) (4.67.1)\n",
            "Requirement already satisfied: six>=1.5 in /usr/local/lib/python3.11/dist-packages (from python-dateutil>=2.7->matplotlib>=3.1.3->mokapot) (1.17.0)\n",
            "Downloading mokapot-0.10.0-py3-none-any.whl (74 kB)\n",
            "\u001b[2K   \u001b[90m━━━━━━━━━━━━━━━━━━━━━━━━━━━━━━━━━━━━━━━━\u001b[0m \u001b[32m74.4/74.4 kB\u001b[0m \u001b[31m3.3 MB/s\u001b[0m eta \u001b[36m0:00:00\u001b[0m\n",
            "\u001b[?25hDownloading xgboost-2.1.4-py3-none-manylinux_2_28_x86_64.whl (223.6 MB)\n",
            "\u001b[2K   \u001b[90m━━━━━━━━━━━━━━━━━━━━━━━━━━━━━━━━━━━━━━━━\u001b[0m \u001b[32m223.6/223.6 MB\u001b[0m \u001b[31m4.7 MB/s\u001b[0m eta \u001b[36m0:00:00\u001b[0m\n",
            "\u001b[?25hDownloading importlib_metadata-8.6.1-py3-none-any.whl (26 kB)\n",
            "Downloading lxml-5.3.1-cp311-cp311-manylinux_2_28_x86_64.whl (5.0 MB)\n",
            "\u001b[2K   \u001b[90m━━━━━━━━━━━━━━━━━━━━━━━━━━━━━━━━━━━━━━━━\u001b[0m \u001b[32m5.0/5.0 MB\u001b[0m \u001b[31m93.6 MB/s\u001b[0m eta \u001b[36m0:00:00\u001b[0m\n",
            "\u001b[?25hDownloading triqler-0.8.0-py3-none-any.whl (64 kB)\n",
            "\u001b[2K   \u001b[90m━━━━━━━━━━━━━━━━━━━━━━━━━━━━━━━━━━━━━━━━\u001b[0m \u001b[32m64.6/64.6 kB\u001b[0m \u001b[31m4.1 MB/s\u001b[0m eta \u001b[36m0:00:00\u001b[0m\n",
            "\u001b[?25hDownloading numpy-2.1.3-cp311-cp311-manylinux_2_17_x86_64.manylinux2014_x86_64.whl (16.3 MB)\n",
            "\u001b[2K   \u001b[90m━━━━━━━━━━━━━━━━━━━━━━━━━━━━━━━━━━━━━━━━\u001b[0m \u001b[32m16.3/16.3 MB\u001b[0m \u001b[31m99.1 MB/s\u001b[0m eta \u001b[36m0:00:00\u001b[0m\n",
            "\u001b[?25hDownloading nvidia_nccl_cu12-2.25.1-py3-none-manylinux2014_x86_64.manylinux_2_17_x86_64.whl (201.4 MB)\n",
            "\u001b[2K   \u001b[90m━━━━━━━━━━━━━━━━━━━━━━━━━━━━━━━━━━━━━━━━\u001b[0m \u001b[32m201.4/201.4 MB\u001b[0m \u001b[31m5.3 MB/s\u001b[0m eta \u001b[36m0:00:00\u001b[0m\n",
            "\u001b[?25hDownloading job_pool-0.2.6-py3-none-any.whl (9.1 kB)\n",
            "Installing collected packages: nvidia-nccl-cu12, numpy, lxml, job-pool, importlib-metadata, xgboost, triqler, mokapot\n",
            "  Attempting uninstall: numpy\n",
            "    Found existing installation: numpy 1.26.4\n",
            "    Uninstalling numpy-1.26.4:\n",
            "      Successfully uninstalled numpy-1.26.4\n",
            "  Attempting uninstall: importlib-metadata\n",
            "    Found existing installation: importlib-metadata 4.6.4\n",
            "    Uninstalling importlib-metadata-4.6.4:\n",
            "      Successfully uninstalled importlib-metadata-4.6.4\n",
            "\u001b[31mERROR: pip's dependency resolver does not currently take into account all the packages that are installed. This behaviour is the source of the following dependency conflicts.\n",
            "thinc 8.2.5 requires numpy<2.0.0,>=1.19.0; python_version >= \"3.9\", but you have numpy 2.1.3 which is incompatible.\n",
            "tensorflow 2.18.0 requires numpy<2.1.0,>=1.26.0, but you have numpy 2.1.3 which is incompatible.\n",
            "tensorflow-tpu 2.18.0 requires numpy<2.1.0,>=1.26.0, but you have numpy 2.1.3 which is incompatible.\n",
            "gensim 4.3.3 requires numpy<2.0,>=1.18.5, but you have numpy 2.1.3 which is incompatible.\u001b[0m\u001b[31m\n",
            "\u001b[0mSuccessfully installed importlib-metadata-8.6.1 job-pool-0.2.6 lxml-5.3.1 mokapot-0.10.0 numpy-2.1.3 nvidia-nccl-cu12-2.25.1 triqler-0.8.0 xgboost-2.1.4\n"
          ]
        },
        {
          "output_type": "display_data",
          "data": {
            "application/vnd.colab-display-data+json": {
              "pip_warning": {
                "packages": [
                  "importlib_metadata"
                ]
              },
              "id": "44d3cb2281f74adb917d9373348113e6"
            }
          },
          "metadata": {}
        },
        {
          "output_type": "stream",
          "name": "stdout",
          "text": [
            "Found existing installation: numpy 2.1.3\n",
            "Uninstalling numpy-2.1.3:\n",
            "  Successfully uninstalled numpy-2.1.3\n",
            "Collecting numpy==1.24.1\n",
            "  Downloading numpy-1.24.1-cp311-cp311-manylinux_2_17_x86_64.manylinux2014_x86_64.whl.metadata (5.6 kB)\n",
            "Downloading numpy-1.24.1-cp311-cp311-manylinux_2_17_x86_64.manylinux2014_x86_64.whl (17.3 MB)\n",
            "\u001b[2K   \u001b[90m━━━━━━━━━━━━━━━━━━━━━━━━━━━━━━━━━━━━━━━━\u001b[0m \u001b[32m17.3/17.3 MB\u001b[0m \u001b[31m89.4 MB/s\u001b[0m eta \u001b[36m0:00:00\u001b[0m\n",
            "\u001b[?25hInstalling collected packages: numpy\n",
            "\u001b[31mERROR: pip's dependency resolver does not currently take into account all the packages that are installed. This behaviour is the source of the following dependency conflicts.\n",
            "triqler 0.8.0 requires numpy<3.0.0,>=2.0.0, but you have numpy 1.24.1 which is incompatible.\n",
            "tensorflow 2.18.0 requires numpy<2.1.0,>=1.26.0, but you have numpy 1.24.1 which is incompatible.\n",
            "tensorflow-tpu 2.18.0 requires numpy<2.1.0,>=1.26.0, but you have numpy 1.24.1 which is incompatible.\u001b[0m\u001b[31m\n",
            "\u001b[0mSuccessfully installed numpy-1.24.1\n"
          ]
        }
      ]
    },
    {
      "cell_type": "code",
      "execution_count": 1,
      "metadata": {
        "cellView": "form",
        "id": "1ezwTbRTcqmN"
      },
      "outputs": [],
      "source": [
        "#@title Add inputs for `Mokapot` -> click `Runtime` -> `Run cell and below`\n",
        "peak_folder = \"\" #@param {type:\"string\"}\n",
        "#@markdown - a folder contains relevant `.sage.tsv` results\n",
        "joint_modelling= True #@param {type:\"boolean\"}\n",
        "#@markdown - a joint model for low abundance samples, unclick for a separate model per experiment\n",
        "default_Percolator=True #@param {type:\"boolean\"}\n",
        "#@markdown - Python implementation of the Percolator SVM model\n"
      ]
    },
    {
      "cell_type": "code",
      "source": [
        "#@title Brew Mokapot\n",
        "\n",
        "import mokapot\n",
        "from xgboost import XGBClassifier\n",
        "from sklearn.neural_network import MLPClassifier\n",
        "from sklearn.model_selection import GridSearchCV\n",
        "import numpy as np\n",
        "import glob\n",
        "\n",
        "\"\"\"\n",
        "XGBoost schema from Fondrie & Noble (2021).\n",
        "A non-linear XGBoost seems to be better for rescoring open search results.\n",
        "\"\"\"\n",
        "\n",
        "from xgboost import XGBClassifier\n",
        "from sklearn.model_selection import GridSearchCV\n",
        "import numpy as np\n",
        "import os\n",
        "\n",
        "\n",
        "grid = {\n",
        "    \"scale_pos_weight\": np.logspace(0, 2, 3),\n",
        "    \"max_depth\": [1, 3, 6],\n",
        "    \"min_child_weight\": [1, 10, 100],\n",
        "    \"gamma\": [0, 1, 10],\n",
        "}\n",
        "\n",
        "\n",
        "xgb_mod = GridSearchCV(\n",
        "    XGBClassifier(),\n",
        "    param_grid=grid,\n",
        "    n_jobs=1,\n",
        "    cv=3,\n",
        "    scoring=\"roc_auc\",\n",
        ")\n",
        "\n",
        "\"\"\"Recursively find all .pin files in the given folder.\"\"\"\n",
        "def get_all_pin_files(folder_path):\n",
        "    psm_files = []\n",
        "    for root, dirs, files in os.walk(folder_path):\n",
        "        for file in files:\n",
        "            if file.endswith('.pin'):\n",
        "                full_path = os.path.join(root, file)\n",
        "                psm_files.append(full_path)\n",
        "    return psm_files\n",
        "\n",
        "\n",
        "folder_path = peak_folder\n",
        "\n",
        "if joint_modelling:\n",
        "    psm_files = get_all_pin_files(peak_folder)\n",
        "\n",
        "    if default_Percolator:\n",
        "        svm = mokapot.PercolatorModel()\n",
        "        psm_list = mokapot.read_pin(psm_files)\n",
        "        results, models = mokapot.brew(psm_list, svm)\n",
        "        result_files = results.to_txt(peak_folder)\n",
        "    else:\n",
        "        mod = mokapot.Model(xgb_mod)\n",
        "        psm_list = mokapot.read_pin(psm_files)\n",
        "        results, models = mokapot.brew(psm_list, mod)\n",
        "        result_files = results.to_txt(peak_folder)\n",
        "\n",
        "else:\n",
        "    big_folder = sorted(glob.glob(f\"{folder_path}/*\"))\n",
        "\n",
        "    for folder in big_folder:\n",
        "        if not os.path.isdir(folder):\n",
        "            continue\n",
        "\n",
        "        print(f\"Processing folder: {folder}\")\n",
        "        pin_files = glob.glob(f\"{folder}/*.pin\")\n",
        "\n",
        "        if not pin_files:\n",
        "            print(f\"No .pin files found in {folder}. Skipping...\")\n",
        "            continue\n",
        "\n",
        "        pin = pin_files[0]\n",
        "\n",
        "        if default_Percolator:\n",
        "            svm = mokapot.PercolatorModel()\n",
        "            psm_list = mokapot.read_pin(pin)\n",
        "            results, models = mokapot.brew(psm_list, svm)\n",
        "            result_files = results.to_txt(folder)\n",
        "        else:\n",
        "            mod = mokapot.Model(xgb_mod)\n",
        "            psm_list = mokapot.read_pin(pin)\n",
        "            results, models = mokapot.brew(psm_list, mod)\n",
        "            result_files = results.to_txt(folder)\n",
        "\n"
      ],
      "metadata": {
        "id": "ERd2Yy-2cvqK",
        "colab": {
          "base_uri": "https://localhost:8080/"
        },
        "cellView": "form",
        "outputId": "d59447b0-71ec-455a-960d-7da21c43abf1"
      },
      "execution_count": null,
      "outputs": [
        {
          "output_type": "stream",
          "name": "stderr",
          "text": [
            "/usr/local/lib/python3.11/dist-packages/mokapot/parsers/pin.py:238: FutureWarning: errors='ignore' is deprecated and will raise in a future version. Use to_numeric without passing `errors` and catch exceptions explicitly instead\n",
            "  yield psms.apply(pd.to_numeric, errors=\"ignore\")\n"
          ]
        }
      ]
    }
  ]
}
