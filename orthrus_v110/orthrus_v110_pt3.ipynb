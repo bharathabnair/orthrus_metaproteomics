{
  "nbformat": 4,
  "nbformat_minor": 0,
  "metadata": {
    "colab": {
      "provenance": [],
      "machine_shape": "hm",
      "gpuType": "V28",
      "mount_file_id": "1ZI8rYP04ayAedbToJ0YafAl02zUz1yMP",
      "authorship_tag": "ABX9TyOHIe3KStlFiS9Y1D0pTzZ5",
      "include_colab_link": true
    },
    "kernelspec": {
      "name": "python3",
      "display_name": "Python 3"
    },
    "language_info": {
      "name": "python"
    },
    "accelerator": "TPU"
  },
  "cells": [
    {
      "cell_type": "markdown",
      "metadata": {
        "id": "view-in-github",
        "colab_type": "text"
      },
      "source": [
        "<a href=\"https://colab.research.google.com/github/yc386/orthrus_metaproteomics/blob/main/orthrus_v110_pt3.ipynb\" target=\"_parent\"><img src=\"https://colab.research.google.com/assets/colab-badge.svg\" alt=\"Open In Colab\"/></a>"
      ]
    },
    {
      "cell_type": "markdown",
      "source": [
        "# **Orthrus pt3- [`Mokapot`](https://github.com/wfondrie/mokapot)**\n",
        "\n",
        "Runtime recommendation:\n",
        "1. Normal CPU\n",
        "2. CPU, high RAM (50GB)\n",
        "3. **TPU** runtime if RAM usage is expected to be extremely high (many PSMs)"
      ],
      "metadata": {
        "id": "ayMwUa6kgD6b"
      }
    },
    {
      "cell_type": "code",
      "source": [
        "#@title install dependencies, will automatically restart to sort out versions conflicts caused by Mokapot\n",
        "!pip install mokapot xgboost\n",
        "!pip uninstall -y numpy\n",
        "!pip install numpy==1.24.1\n",
        "import os\n",
        "os.kill(os.getpid(), 9)"
      ],
      "metadata": {
        "colab": {
          "base_uri": "https://localhost:8080/"
        },
        "cellView": "form",
        "id": "jYaOh58Oc8XC",
        "outputId": "23062b9f-604c-4979-f9f2-34ac3d23bac7"
      },
      "execution_count": null,
      "outputs": [
        {
          "output_type": "stream",
          "name": "stdout",
          "text": [
            "Requirement already satisfied: mokapot in /usr/local/lib/python3.11/dist-packages (0.10.0)\n",
            "Requirement already satisfied: xgboost in /usr/local/lib/python3.11/dist-packages (2.1.3)\n",
            "Requirement already satisfied: numpy>=1.18.1 in /usr/local/lib/python3.11/dist-packages (from mokapot) (2.0.2)\n",
            "Requirement already satisfied: pandas>=1.0.3 in /usr/local/lib/python3.11/dist-packages (from mokapot) (2.2.2)\n",
            "Requirement already satisfied: scikit-learn>=0.22.1 in /usr/local/lib/python3.11/dist-packages (from mokapot) (1.6.0)\n",
            "Requirement already satisfied: numba>=0.48.0 in /usr/local/lib/python3.11/dist-packages (from mokapot) (0.60.0)\n",
            "Requirement already satisfied: matplotlib>=3.1.3 in /usr/local/lib/python3.11/dist-packages (from mokapot) (3.10.0)\n",
            "Requirement already satisfied: lxml>=4.6.2 in /usr/local/lib/python3.11/dist-packages (from mokapot) (5.3.0)\n",
            "Requirement already satisfied: triqler>=0.6.2 in /usr/local/lib/python3.11/dist-packages (from mokapot) (0.8.0)\n",
            "Requirement already satisfied: joblib>=1.1.0 in /usr/local/lib/python3.11/dist-packages (from mokapot) (1.4.2)\n",
            "Requirement already satisfied: importlib-metadata>=5.1.0 in /usr/local/lib/python3.11/dist-packages (from mokapot) (8.5.0)\n",
            "Requirement already satisfied: nvidia-nccl-cu12 in /usr/local/lib/python3.11/dist-packages (from xgboost) (2.24.3)\n",
            "Requirement already satisfied: scipy in /usr/local/lib/python3.11/dist-packages (from xgboost) (1.13.1)\n",
            "Requirement already satisfied: zipp>=3.20 in /usr/local/lib/python3.11/dist-packages (from importlib-metadata>=5.1.0->mokapot) (3.21.0)\n",
            "Requirement already satisfied: contourpy>=1.0.1 in /usr/local/lib/python3.11/dist-packages (from matplotlib>=3.1.3->mokapot) (1.3.1)\n",
            "Requirement already satisfied: cycler>=0.10 in /usr/local/lib/python3.11/dist-packages (from matplotlib>=3.1.3->mokapot) (0.12.1)\n",
            "Requirement already satisfied: fonttools>=4.22.0 in /usr/local/lib/python3.11/dist-packages (from matplotlib>=3.1.3->mokapot) (4.55.3)\n",
            "Requirement already satisfied: kiwisolver>=1.3.1 in /usr/local/lib/python3.11/dist-packages (from matplotlib>=3.1.3->mokapot) (1.4.8)\n",
            "Requirement already satisfied: packaging>=20.0 in /usr/local/lib/python3.11/dist-packages (from matplotlib>=3.1.3->mokapot) (24.2)\n",
            "Requirement already satisfied: pillow>=8 in /usr/local/lib/python3.11/dist-packages (from matplotlib>=3.1.3->mokapot) (11.1.0)\n",
            "Requirement already satisfied: pyparsing>=2.3.1 in /usr/local/lib/python3.11/dist-packages (from matplotlib>=3.1.3->mokapot) (3.2.1)\n",
            "Requirement already satisfied: python-dateutil>=2.7 in /usr/local/lib/python3.11/dist-packages (from matplotlib>=3.1.3->mokapot) (2.9.0.post0)\n",
            "Requirement already satisfied: llvmlite<0.44,>=0.43.0dev0 in /usr/local/lib/python3.11/dist-packages (from numba>=0.48.0->mokapot) (0.43.0)\n",
            "Requirement already satisfied: pytz>=2020.1 in /usr/local/lib/python3.11/dist-packages (from pandas>=1.0.3->mokapot) (2024.2)\n",
            "Requirement already satisfied: tzdata>=2022.7 in /usr/local/lib/python3.11/dist-packages (from pandas>=1.0.3->mokapot) (2024.2)\n",
            "Requirement already satisfied: threadpoolctl>=3.1.0 in /usr/local/lib/python3.11/dist-packages (from scikit-learn>=0.22.1->mokapot) (3.5.0)\n",
            "Requirement already satisfied: job-pool<0.3.0,>=0.2.6 in /usr/local/lib/python3.11/dist-packages (from triqler>=0.6.2->mokapot) (0.2.6)\n",
            "Requirement already satisfied: tqdm<5.0.0,>=4.66.1 in /usr/local/lib/python3.11/dist-packages (from job-pool<0.3.0,>=0.2.6->triqler>=0.6.2->mokapot) (4.67.1)\n",
            "Requirement already satisfied: six>=1.5 in /usr/local/lib/python3.11/dist-packages (from python-dateutil>=2.7->matplotlib>=3.1.3->mokapot) (1.17.0)\n",
            "Found existing installation: numpy 2.0.2\n",
            "Uninstalling numpy-2.0.2:\n",
            "  Successfully uninstalled numpy-2.0.2\n",
            "Collecting numpy==1.23.5\n",
            "  Using cached numpy-1.23.5-cp311-cp311-manylinux_2_17_x86_64.manylinux2014_x86_64.whl.metadata (2.3 kB)\n",
            "Using cached numpy-1.23.5-cp311-cp311-manylinux_2_17_x86_64.manylinux2014_x86_64.whl (17.1 MB)\n",
            "Installing collected packages: numpy\n",
            "\u001b[31mERROR: pip's dependency resolver does not currently take into account all the packages that are installed. This behaviour is the source of the following dependency conflicts.\n",
            "triqler 0.8.0 requires numpy<3.0.0,>=2.0.0, but you have numpy 1.23.5 which is incompatible.\n",
            "jax 0.4.33 requires numpy>=1.24, but you have numpy 1.23.5 which is incompatible.\n",
            "jaxlib 0.4.33 requires numpy>=1.24, but you have numpy 1.23.5 which is incompatible.\n",
            "scikit-image 0.25.0 requires numpy>=1.24, but you have numpy 1.23.5 which is incompatible.\n",
            "chex 0.1.88 requires numpy>=1.24.1, but you have numpy 1.23.5 which is incompatible.\u001b[0m\u001b[31m\n",
            "\u001b[0mSuccessfully installed numpy-1.23.5\n"
          ]
        }
      ]
    },
    {
      "cell_type": "code",
      "execution_count": null,
      "metadata": {
        "cellView": "form",
        "id": "1ezwTbRTcqmN"
      },
      "outputs": [],
      "source": [
        "#@title Add inputs for `Mokapot` -> click `Runtime` -> `Run cell and below`\n",
        "peak_folder = \"\" #@param {type:\"string\"}\n",
        "#@markdown - a folder contains relevant `.sage.tsv` results\n",
        "joint_modelling= True #@param {type:\"boolean\"}\n",
        "#@markdown - a joint model for low abundance samples, unclick for a separate model per experiment\n",
        "default_Percolator=True #@param {type:\"boolean\"}\n",
        "#@markdown - Python implementation of the Percolator SVM model\n"
      ]
    },
    {
      "cell_type": "code",
      "source": [
        "#@title Brew Mokapot\n",
        "\n",
        "import mokapot\n",
        "from xgboost import XGBClassifier\n",
        "from sklearn.neural_network import MLPClassifier\n",
        "from sklearn.model_selection import GridSearchCV\n",
        "import numpy as np\n",
        "import glob\n",
        "\n",
        "\"\"\"\n",
        "XGBoost schema from Fondrie & Noble (2021).\n",
        "A non-linear XGBoost seems to be better for rescoring open search results.\n",
        "\"\"\"\n",
        "\n",
        "from xgboost import XGBClassifier\n",
        "from sklearn.model_selection import GridSearchCV\n",
        "import numpy as np\n",
        "import os\n",
        "\n",
        "\n",
        "grid = {\n",
        "    \"scale_pos_weight\": np.logspace(0, 2, 3),\n",
        "    \"max_depth\": [1, 3, 6],\n",
        "    \"min_child_weight\": [1, 10, 100],\n",
        "    \"gamma\": [0, 1, 10],\n",
        "}\n",
        "\n",
        "\n",
        "xgb_mod = GridSearchCV(\n",
        "    XGBClassifier(),\n",
        "    param_grid=grid,\n",
        "    n_jobs=1,\n",
        "    cv=3,\n",
        "    scoring=\"roc_auc\",\n",
        ")\n",
        "\n",
        "\"\"\"Recursively find all .pin files in the given folder.\"\"\"\n",
        "def get_all_pin_files(folder_path):\n",
        "    psm_files = []\n",
        "    for root, dirs, files in os.walk(folder_path):\n",
        "        for file in files:\n",
        "            if file.endswith('.pin'):\n",
        "                full_path = os.path.join(root, file)\n",
        "                psm_files.append(full_path)\n",
        "    return psm_files\n",
        "\n",
        "\n",
        "folder_path = peak_folder\n",
        "\n",
        "if joint_modelling:\n",
        "    psm_files = get_all_pin_files(peak_folder)\n",
        "\n",
        "    if default_Percolator:\n",
        "        svm = mokapot.PercolatorModel()\n",
        "        psm_list = mokapot.read_pin(psm_files)\n",
        "        results, models = mokapot.brew(psm_list, svm)\n",
        "        result_files = results.to_txt(peak_folder)\n",
        "    else:\n",
        "        mod = mokapot.Model(xgb_mod)\n",
        "        psm_list = mokapot.read_pin(psm_files)\n",
        "        results, models = mokapot.brew(psm_list, mod)\n",
        "        result_files = results.to_txt(peak_folder)\n",
        "\n",
        "else:\n",
        "    big_folder = sorted(glob.glob(f\"{folder_path}/*\"))\n",
        "\n",
        "    for folder in big_folder:\n",
        "        if not os.path.isdir(folder):\n",
        "            continue\n",
        "\n",
        "        print(f\"Processing folder: {folder}\")\n",
        "        pin_files = glob.glob(f\"{folder}/*.pin\")\n",
        "\n",
        "        if not pin_files:\n",
        "            print(f\"No .pin files found in {folder}. Skipping...\")\n",
        "            continue\n",
        "\n",
        "        pin = pin_files[0]\n",
        "\n",
        "        if default_Percolator:\n",
        "            svm = mokapot.PercolatorModel()\n",
        "            psm_list = mokapot.read_pin(pin)\n",
        "            results, models = mokapot.brew(psm_list, svm)\n",
        "            result_files = results.to_txt(folder)\n",
        "        else:\n",
        "            mod = mokapot.Model(xgb_mod)\n",
        "            psm_list = mokapot.read_pin(pin)\n",
        "            results, models = mokapot.brew(psm_list, mod)\n",
        "            result_files = results.to_txt(folder)\n",
        "\n"
      ],
      "metadata": {
        "id": "ERd2Yy-2cvqK",
        "colab": {
          "base_uri": "https://localhost:8080/"
        },
        "cellView": "form",
        "outputId": "9bc4dd5d-7d89-43ad-ca6d-00c36892f0b0"
      },
      "execution_count": null,
      "outputs": [
        {
          "output_type": "stream",
          "name": "stderr",
          "text": [
            "/usr/local/lib/python3.11/dist-packages/mokapot/parsers/pin.py:238: FutureWarning: errors='ignore' is deprecated and will raise in a future version. Use to_numeric without passing `errors` and catch exceptions explicitly instead\n",
            "  yield psms.apply(pd.to_numeric, errors=\"ignore\")\n"
          ]
        }
      ]
    }
  ]
}
