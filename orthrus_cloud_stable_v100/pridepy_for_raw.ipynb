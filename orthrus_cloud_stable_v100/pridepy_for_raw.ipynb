{
  "nbformat": 4,
  "nbformat_minor": 0,
  "metadata": {
    "colab": {
      "provenance": [],
      "authorship_tag": "ABX9TyPbeE+Eog0oPkhIcj2NtWEa",
      "include_colab_link": true
    },
    "kernelspec": {
      "name": "python3",
      "display_name": "Python 3"
    },
    "language_info": {
      "name": "python"
    }
  },
  "cells": [
    {
      "cell_type": "markdown",
      "metadata": {
        "id": "view-in-github",
        "colab_type": "text"
      },
      "source": [
        "<a href=\"https://colab.research.google.com/github/yc386/orthrus_metaproteomics/blob/main/orthrus_cloud_stable_v100/pridepy_for_raw.ipynb\" target=\"_parent\"><img src=\"https://colab.research.google.com/assets/colab-badge.svg\" alt=\"Open In Colab\"/></a>"
      ]
    },
    {
      "cell_type": "code",
      "execution_count": null,
      "metadata": {
        "cellView": "form",
        "id": "Ox5xuNySV21R"
      },
      "outputs": [],
      "source": [
        "#@title inputs `pridepy`\n",
        "PRIDE_accession = \"\" #@param {type:\"string\"}\n",
        "#@markdown - PRIDE accession number [required]\n",
        "OUTPUT_DIR = \"\" #@param {type:\"string\"}\n",
        "#@markdown - output directory [required]\n",
        "protocol = \"ftp\" #@param {type:\"string\"}\n",
        "#@markdown - ftp/aspera/globus, default ftp\n",
        "skip = True #@param {type:\"boolean\"}\n",
        "#@markdown - skip already downloaded file(s) in the output folder"
      ]
    },
    {
      "cell_type": "code",
      "source": [
        "#@title install `pridepy`\n",
        "!pip install -q --upgrade pridepy"
      ],
      "metadata": {
        "cellView": "form",
        "id": "iFYUnvNdV7j-"
      },
      "execution_count": null,
      "outputs": []
    },
    {
      "cell_type": "code",
      "source": [
        "#@title  run `pridepy`\n",
        "! pridepy download-all-public-raw-files -a {PRIDE_accession} -o {OUTPUT_DIR} -skip True"
      ],
      "metadata": {
        "cellView": "form",
        "id": "AkEIm2m0V9r2"
      },
      "execution_count": null,
      "outputs": []
    }
  ]
}