{
  "nbformat": 4,
  "nbformat_minor": 0,
  "metadata": {
    "colab": {
      "provenance": [],
      "authorship_tag": "ABX9TyM8WQEv+6oWQhYIiqlP5lik",
      "include_colab_link": true
    },
    "kernelspec": {
      "name": "python3",
      "display_name": "Python 3"
    },
    "language_info": {
      "name": "python"
    }
  },
  "cells": [
    {
      "cell_type": "markdown",
      "metadata": {
        "id": "view-in-github",
        "colab_type": "text"
      },
      "source": [
        "<a href=\"https://colab.research.google.com/github/yc386/orthrus_metaproteomics/blob/main/orthrus_cloud_stable_v100/unit_test_matching_Bayes_ranking.ipynb\" target=\"_parent\"><img src=\"https://colab.research.google.com/assets/colab-badge.svg\" alt=\"Open In Colab\"/></a>"
      ]
    },
    {
      "cell_type": "code",
      "source": [
        "%pip install -q ipytest pytest\n",
        "import ipytest\n",
        "ipytest.autoconfig()"
      ],
      "metadata": {
        "colab": {
          "base_uri": "https://localhost:8080/"
        },
        "id": "dVhmT_V40or_",
        "outputId": "e9f22589-22ef-4717-c532-2cc5cdf0c7f4"
      },
      "execution_count": null,
      "outputs": [
        {
          "output_type": "stream",
          "name": "stdout",
          "text": [
            "\u001b[?25l   \u001b[90m━━━━━━━━━━━━━━━━━━━━━━━━━━━━━━━━━━━━━━━━\u001b[0m \u001b[32m0.0/1.6 MB\u001b[0m \u001b[31m?\u001b[0m eta \u001b[36m-:--:--\u001b[0m\r\u001b[2K   \u001b[91m━━━━━━━━━━\u001b[0m\u001b[91m╸\u001b[0m\u001b[90m━━━━━━━━━━━━━━━━━━━━━━━━━━━━━\u001b[0m \u001b[32m0.4/1.6 MB\u001b[0m \u001b[31m14.4 MB/s\u001b[0m eta \u001b[36m0:00:01\u001b[0m\r\u001b[2K   \u001b[91m━━━━━━━━━━━━━━━━━━━━━━━━━━━━━━━━━━━━━━━\u001b[0m\u001b[91m╸\u001b[0m \u001b[32m1.6/1.6 MB\u001b[0m \u001b[31m31.3 MB/s\u001b[0m eta \u001b[36m0:00:01\u001b[0m\r\u001b[2K   \u001b[90m━━━━━━━━━━━━━━━━━━━━━━━━━━━━━━━━━━━━━━━━\u001b[0m \u001b[32m1.6/1.6 MB\u001b[0m \u001b[31m21.7 MB/s\u001b[0m eta \u001b[36m0:00:00\u001b[0m\n",
            "\u001b[?25h"
          ]
        }
      ]
    },
    {
      "cell_type": "code",
      "execution_count": null,
      "metadata": {
        "id": "eAQK0IuJ0NV8"
      },
      "outputs": [],
      "source": [
        "import pandas as pd\n",
        "import re\n",
        "from itertools import chain\n",
        "import logging as log\n",
        "from sklearn.model_selection import train_test_split\n",
        "from sklearn.preprocessing import MinMaxScaler\n",
        "from sklearn.naive_bayes import GaussianNB\n",
        "from sklearn.metrics import accuracy_score, precision_score, f1_score\n",
        "\n",
        "\n",
        "# ----------------------------- matching & Bayes ranking ------------------------------- #\n",
        "\n",
        "\n",
        "#prepare overlapping sequence tags for string matching\n",
        "def get_seq_tags(sequence: str, k: int):\n",
        "    return set(sequence[i:i+k] for i in range(len(sequence) - k + 1))\n",
        "\n",
        "\n",
        "#change chunk size here for memory if needed\n",
        "def matching_count_v5(fasta_df: pd.DataFrame, casanovo_df: pd.DataFrame, k: int, chunk_size: int=10000):\n",
        "    log.info(\"Generating sequence tags (k=%d)...\", k)\n",
        "    sequence_set = get_seq_tags(''.join(chain.from_iterable(casanovo_df['sequence_naked'].astype(str))), k)\n",
        "    log.info(\"Generated %d unique tags from Casanovo outputs.\", len(sequence_set))\n",
        "    result_df = pd.DataFrame()\n",
        "    for start in range(0, len(fasta_df), chunk_size):\n",
        "        chunk = fasta_df.iloc[start:start+chunk_size].copy()\n",
        "        chunk['seq_tags'] = chunk['Sequence'].astype(str).str.replace('I', 'L').apply(lambda x: get_seq_tags(x, k))\n",
        "        chunk['matched_count'] = chunk['seq_tags'].apply(lambda seq_tags: len(seq_tags & sequence_set))\n",
        "        chunk = chunk.assign(matched=chunk['matched_count'].apply(lambda x: 1 if x >= 2 else 0))\n",
        "        result_df = pd.concat([result_df, chunk], ignore_index=True)\n",
        "    log.info(\n",
        "        \"Tag matching complete: total matched tag counts=%d\",\n",
        "        int(result_df[\"matched_count\"].sum()))\n",
        "    return result_df\n",
        "\n",
        "\n",
        "#get tryptic peptides per database entry\n",
        "def count_tryptic_peptides(sequence: str):\n",
        "    pattern=r'(?<=[KR])'\n",
        "    peptides = re.split(pattern, sequence)\n",
        "    filtered_peptides = [peptide for peptide in peptides if len(peptide) >= 6]\n",
        "    return len(filtered_peptides)\n",
        "\n",
        "\n",
        "#prepare a dataframe for NB classification\n",
        "def prep_Bayes(df: pd.DataFrame):\n",
        "    df1=df.assign(length=df['Sequence'].astype(str).str.len(),\n",
        "                 tryptic_count=df['Sequence'].apply(count_tryptic_peptides),\n",
        "                 tag_count=df['seq_tags'].apply(len))\n",
        "    df2=df1.assign(SAF=df1['matched_count']/df1['length'],\n",
        "                 try_ratio=df1['tryptic_count']/df1['tag_count'])\n",
        "    return df2\n",
        "\n",
        "\n",
        "# bayes ranking\n",
        "def get_bayes_ranking_test(df: pd.DataFrame, threshold: float = 0.95):\n",
        "    m=prep_Bayes(df)\n",
        "    required_columns = {'SAF', 'try_ratio', 'matched'}\n",
        "    if not required_columns.issubset(m.columns):\n",
        "        missing = required_columns - set(m.columns)\n",
        "        raise ValueError(f\"Missing columns in DataFrame: {missing}\")\n",
        "    m1 = m[m['tag_count']>0]\n",
        "    X = m1[['SAF', 'try_ratio']].to_numpy()\n",
        "    y = m1['matched'].to_numpy()\n",
        "    scaler = MinMaxScaler()\n",
        "    X_scaled = scaler.fit_transform(X.reshape(-1, 1)).reshape(*X.shape)\n",
        "    X_train, X_test, y_train, y_test = train_test_split(X_scaled, y, test_size=0.2, random_state=7)\n",
        "    gnb = GaussianNB()\n",
        "    gnb.fit(X_train, y_train)\n",
        "    y_pred = gnb.predict(X_test)\n",
        "    accuracy = accuracy_score(y_test, y_pred)\n",
        "    precision = precision_score(y_test, y_pred)\n",
        "    f1 = f1_score(y_test, y_pred)\n",
        "    log.info(\"GaussianNB ▶ accuracy=%.4f, precision=%.4f, f1=%.4f\", accuracy, precision, f1)\n",
        "    whole_pred = gnb.predict(X_scaled)\n",
        "    class_probabilities = gnb.predict_proba(X_scaled)\n",
        "    m2 = m1.assign(pred=class_probabilities[:, 1])\n",
        "    m3 = m2[m2['pred']>=threshold]\n",
        "    log.info(\"Shortlisted %d proteins at ≥ %.2f.\", m3.shape[0], threshold)\n",
        "    return m3"
      ]
    },
    {
      "cell_type": "code",
      "source": [
        "%%ipytest -v\n",
        "import pandas as pd\n",
        "import pytest\n",
        "\n",
        "\n",
        "def test_get_seq_tags_basic():\n",
        "    assert get_seq_tags(\"ABCDE\", 2) == {\"AB\", \"BC\", \"CD\", \"DE\"}\n",
        "    assert get_seq_tags(\"ABCDE\", 6) == set()\n",
        "    assert get_seq_tags(\"\", 1) == set()\n",
        "\n",
        "@pytest.mark.parametrize(\n",
        "    \"seq,expected\",\n",
        "    [\n",
        "        (\"AAAAAA\", 1),\n",
        "        (\"AAAARBBB\", 0),\n",
        "        (\"AAAAAKBBBBBB\", 2),\n",
        "    ],\n",
        ")\n",
        "\n",
        "\n",
        "def test_count_tryptic_peptides(seq, expected):\n",
        "    assert count_tryptic_peptides(seq) == expected\n",
        "\n",
        "\n",
        "@pytest.fixture()\n",
        "def sample_data():\n",
        "    casanovo_df = pd.DataFrame({\n",
        "        \"sequence_naked\": [\"ACDEFGHIK\", \"LMNPQRSTV\", \"ACDLMN\"]\n",
        "    })\n",
        "    fasta_df = pd.DataFrame({\n",
        "        \"Accession\": [\"prot1\", \"prot2\", \"prot3\"],\n",
        "        \"Sequence\": [\"ACDEFGHIKLMNP\", \"TTTTTIKKKKKK\", \"QRSTVACDLMNXX\"]\n",
        "    })\n",
        "    return fasta_df, casanovo_df, 3  # k=3\n",
        "\n",
        "\n",
        "def test_matching_count_v5_structure(sample_data):\n",
        "    fasta_df, casanovo_df, k = sample_data\n",
        "    out = matching_count_v5(fasta_df, casanovo_df, k, chunk_size=2)\n",
        "    for col in [\"seq_tags\", \"matched_count\", \"matched\"]:\n",
        "        assert col in out.columns\n",
        "    assert all(isinstance(x, set) for x in out[\"seq_tags\"])\n",
        "    assert set(out[\"matched\"].unique()).issubset({0, 1})\n",
        "\n",
        "\n",
        "def test_prep_Bayes_columns(sample_data):\n",
        "    fasta_df, casanovo_df, k = sample_data\n",
        "    out = matching_count_v5(fasta_df, casanovo_df, k)\n",
        "    prepped = prep_Bayes(out)\n",
        "    assert {\"length\",\"tryptic_count\",\"tag_count\",\"SAF\",\"try_ratio\"}.issubset(prepped.columns)\n",
        "    assert (prepped[\"tag_count\"] == prepped[\"seq_tags\"].apply(len)).all()\n",
        "\n",
        "\n",
        "def test_get_bayes_ranking_end_to_end(sample_data):\n",
        "    fasta_df, casanovo_df, k = sample_data\n",
        "    out = matching_count_v5(fasta_df, casanovo_df, k)\n",
        "    ranked = get_bayes_ranking_test(out, threshold=0.0)\n",
        "    assert \"pred\" in ranked.columns\n",
        "    assert (ranked[\"tag_count\"] > 0).all()\n",
        "\n",
        "\n",
        "def test_bayes_missing_columns_error(sample_data):\n",
        "    fasta_df, casanovo_df, k = sample_data\n",
        "    out = matching_count_v5(fasta_df, casanovo_df, k).drop(columns=[\"matched\"])\n",
        "    with pytest.raises(ValueError):\n",
        "        get_bayes_ranking_test(out)"
      ],
      "metadata": {
        "colab": {
          "base_uri": "https://localhost:8080/"
        },
        "id": "nRGx694L0zMY",
        "outputId": "7fe41794-021e-4e66-fdee-9fd106383dd8"
      },
      "execution_count": null,
      "outputs": [
        {
          "output_type": "stream",
          "name": "stdout",
          "text": [
            "\u001b[1m======================================= test session starts ========================================\u001b[0m\n",
            "platform linux -- Python 3.12.11, pytest-8.4.2, pluggy-1.6.0\n",
            "rootdir: /content\n",
            "plugins: typeguard-4.4.4, langsmith-0.4.27, anyio-4.10.0\n",
            "collected 8 items\n",
            "\n",
            "t_74883817bd6b42bc9459ed7eaf71c200.py \u001b[32m.\u001b[0m\u001b[32m.\u001b[0m\u001b[32m.\u001b[0m\u001b[32m.\u001b[0m\u001b[32m.\u001b[0m\u001b[32m.\u001b[0m\u001b[32m.\u001b[0m\u001b[32m.\u001b[0m\u001b[32m                                               [100%]\u001b[0m\n",
            "\n",
            "\u001b[32m======================================== \u001b[32m\u001b[1m8 passed\u001b[0m\u001b[32m in 0.10s\u001b[0m\u001b[32m =========================================\u001b[0m\n"
          ]
        }
      ]
    }
  ]
}