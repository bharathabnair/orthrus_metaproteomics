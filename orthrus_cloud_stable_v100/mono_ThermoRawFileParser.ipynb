{
  "nbformat": 4,
  "nbformat_minor": 0,
  "metadata": {
    "colab": {
      "provenance": [],
      "authorship_tag": "ABX9TyPfo8r56QajO7+Tyowh1Zms",
      "include_colab_link": true
    },
    "kernelspec": {
      "name": "python3",
      "display_name": "Python 3"
    },
    "language_info": {
      "name": "python"
    }
  },
  "cells": [
    {
      "cell_type": "markdown",
      "metadata": {
        "id": "view-in-github",
        "colab_type": "text"
      },
      "source": [
        "<a href=\"https://colab.research.google.com/github/yc386/orthrus_metaproteomics/blob/main/orthrus_cloud_stable_v100/mono_ThermoRawFileParser.ipynb\" target=\"_parent\"><img src=\"https://colab.research.google.com/assets/colab-badge.svg\" alt=\"Open In Colab\"/></a>"
      ]
    },
    {
      "cell_type": "code",
      "execution_count": null,
      "metadata": {
        "cellView": "form",
        "id": "u-Z_RXL8WUcs"
      },
      "outputs": [],
      "source": [
        "#@title inputs `ThermoRawFileParser`\n",
        "input_folder = \"\" #@param {type:\"string\"}\n",
        "output_folder = \"\" #@param {type:\"string\"}\n",
        "#@markdown - will make a new folder unless exist\n",
        "format = 0 #@param {type:\"number\"}\n",
        "#@markdown - 0 -> MGF, 1 -> mzML, 2 -> indexed mzML, 3 -> Parquet, 4 -> no output\n",
        "metadata_format = 1 #@param {type:\"number\"}\n",
        "#@markdown - 0 -> JSON, 1 -> TXT, 2 -> no output"
      ]
    },
    {
      "cell_type": "code",
      "source": [
        "#@title install mono\n",
        "!sudo apt -qq update -o Dpkg::Progress-Fancy=\"0\" -o APT::Color=\"0\" -o Dpkg::Use-Pty=\"0\"\n",
        "!sudo apt -qq install -y gnupg ca-certificates -o Dpkg::Progress-Fancy=\"0\" -o APT::Color=\"0\" -o Dpkg::Use-Pty=\"0\"\n",
        "!sudo apt-key adv --batch --keyserver hkp://keyserver.ubuntu.com:80 --recv-keys 3FA7E0328081BFF6A14DA29AA6A19B38D3D831EF >/dev/null 2>&1\n",
        "!echo \"deb https://download.mono-project.com/repo/ubuntu stable-bionic main\" | sudo tee /etc/apt/sources.list.d/mono-official-stable.list >/dev/null\n",
        "!sudo apt -qq update -o Dpkg::Progress-Fancy=\"0\" -o APT::Color=\"0\" -o Dpkg::Use-Pty=\"0\"\n",
        "!sudo apt -qq install -y mono-complete -o Dpkg::Progress-Fancy=\"0\" -o APT::Color=\"0\" -o Dpkg::Use-Pty=\"0\"\n",
        "!mono --version"
      ],
      "metadata": {
        "cellView": "form",
        "id": "V_vLWM3AWZhi"
      },
      "execution_count": null,
      "outputs": []
    },
    {
      "cell_type": "code",
      "source": [
        "#@title get ThermoRawFileParser\n",
        "!wget -q https://github.com/compomics/ThermoRawFileParser/releases/download/v1.4.5/ThermoRawFileParser1.4.5.zip\n",
        "!unzip -q /content/ThermoRawFileParser1.4.5.zip -d ThermoRawFileParser && rm /content/ThermoRawFileParser1.4.5.zip\n",
        "\n",
        "#help to see if properly installed\n",
        "!mono /content/ThermoRawFileParser/ThermoRawFileParser.exe --help"
      ],
      "metadata": {
        "cellView": "form",
        "id": "3cVL7oFcWdl7"
      },
      "execution_count": null,
      "outputs": []
    },
    {
      "cell_type": "code",
      "source": [
        "#@title Mono ThermoRawFileParser (no file compression)\n",
        "import os\n",
        "import glob\n",
        "\n",
        "parser_path = \"/content/ThermoRawFileParser/ThermoRawFileParser.exe\"\n",
        "os.makedirs(output_folder, exist_ok=True)\n",
        "\n",
        "raw_files = glob.glob(os.path.join(input_folder, \"*.raw\"))\n",
        "for raw in raw_files:\n",
        "    !mono {parser_path} -i {raw} -o {output_folder} -f={format} -m={metadata_format} -z"
      ],
      "metadata": {
        "cellView": "form",
        "id": "keacrrCIWj5a"
      },
      "execution_count": null,
      "outputs": []
    }
  ]
}